{
 "cells": [
  {
   "cell_type": "code",
   "execution_count": 12,
   "id": "b67a6b04",
   "metadata": {},
   "outputs": [
    {
     "name": "stdout",
     "output_type": "stream",
     "text": [
      "enter the number between 0 to 100:  76\n",
      "please enter greater number\n",
      "enter the number between 0 and 10080\n",
      "please enter greater number\n",
      "enter the number between 0 and 10090\n",
      "please enter smaller number\n",
      "enter the number between 0 and 10087\n",
      "please enter smaller number\n",
      "enter the number between 0 and 10082\n",
      "please enter greater number\n",
      "enter the number between 0 and 10084\n",
      "well done you can guess in 6 guesses\n"
     ]
    }
   ],
   "source": [
    "import random\n",
    "num=random.randrange(0,100)\n",
    "\n",
    "n1=int(input(\"enter the number between 0 to 100:  \"))\n",
    "count=1\n",
    "while(num!=n1):\n",
    "    if(n1<num):\n",
    "        print(\"please enter greater number\")\n",
    "        n1=int(input(\"enter the number between 0 and 100\"))\n",
    "        count=count+1\n",
    "    elif(n1>num):\n",
    "        print(\"please enter smaller number\")\n",
    "        n1=int(input(\"enter the number between 0 and 100\"))\n",
    "        count=count+1\n",
    "if(n1==num):\n",
    "    print(\"well done you can guess in \"+str(count)+\" guesses\")\n",
    "    "
   ]
  },
  {
   "cell_type": "code",
   "execution_count": null,
   "id": "e272676d",
   "metadata": {},
   "outputs": [],
   "source": []
  }
 ],
 "metadata": {
  "kernelspec": {
   "display_name": "Python 3 (ipykernel)",
   "language": "python",
   "name": "python3"
  },
  "language_info": {
   "codemirror_mode": {
    "name": "ipython",
    "version": 3
   },
   "file_extension": ".py",
   "mimetype": "text/x-python",
   "name": "python",
   "nbconvert_exporter": "python",
   "pygments_lexer": "ipython3",
   "version": "3.10.9"
  }
 },
 "nbformat": 4,
 "nbformat_minor": 5
}
