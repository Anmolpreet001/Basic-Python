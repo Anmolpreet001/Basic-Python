{
  "cells": [
    {
      "cell_type": "markdown",
      "metadata": {
        "id": "view-in-github",
        "colab_type": "text"
      },
      "source": [
        "<a href=\"https://colab.research.google.com/github/Anmolpreet001/Basic-Python/blob/main/basics_of_python.ipynb\" target=\"_parent\"><img src=\"https://colab.research.google.com/assets/colab-badge.svg\" alt=\"Open In Colab\"/></a>"
      ]
    },
    {
      "cell_type": "code",
      "execution_count": null,
      "id": "1455ef1a",
      "metadata": {
        "colab": {
          "base_uri": "https://localhost:8080/"
        },
        "id": "1455ef1a",
        "outputId": "2487cbf8-5e2a-404e-a9cf-d0e21fcd760b"
      },
      "outputs": [
        {
          "output_type": "stream",
          "name": "stdout",
          "text": [
            "<class 'int'> 20\n",
            "<class 'int'> 30\n",
            "<class 'str'> narinder singh kapany\n"
          ]
        }
      ],
      "source": [
        "age=20\n",
        "Age=30\n",
        "name=\"narinder singh kapany\"#narinder singh kapany is the father of fibre optics\n",
        "print(type(age),age)\n",
        "del age\n",
        "print(type(Age),Age)\n",
        "print(type(name),name)\n",
        "\n",
        "\n"
      ]
    },
    {
      "cell_type": "code",
      "execution_count": null,
      "id": "5c564b24",
      "metadata": {
        "colab": {
          "base_uri": "https://localhost:8080/"
        },
        "id": "5c564b24",
        "outputId": "142c512e-8d6c-453f-e546-0f361d4a4a94"
      },
      "outputs": [
        {
          "output_type": "stream",
          "name": "stdout",
          "text": [
            "25000.0 12101122\n"
          ]
        }
      ],
      "source": [
        "fee=25000.00\n",
        "rollno=12101122\n",
        "print(fee,rollno)"
      ]
    },
    {
      "cell_type": "code",
      "execution_count": null,
      "id": "cca96fb3",
      "metadata": {
        "colab": {
          "base_uri": "https://localhost:8080/"
        },
        "id": "cca96fb3",
        "outputId": "0382d6c8-a09c-4545-d072-f9d147124e8d"
      },
      "outputs": [
        {
          "output_type": "stream",
          "name": "stdout",
          "text": [
            "30\n"
          ]
        }
      ],
      "source": [
        "ramage=20;shymage=30;print(shymage)"
      ]
    },
    {
      "cell_type": "code",
      "execution_count": null,
      "id": "9872c288",
      "metadata": {
        "colab": {
          "base_uri": "https://localhost:8080/"
        },
        "id": "9872c288",
        "outputId": "3f2a0284-b8a7-4a9f-cb18-9b7d424a9667"
      },
      "outputs": [
        {
          "output_type": "stream",
          "name": "stdout",
          "text": [
            "20\n"
          ]
        }
      ],
      "source": [
        "age=10\n",
        "Age=20\n",
        "del age #del is used to  del the variable in python language \n",
        "print(Age)"
      ]
    },
    {
      "cell_type": "code",
      "execution_count": null,
      "id": "5ad53c17",
      "metadata": {
        "colab": {
          "base_uri": "https://localhost:8080/"
        },
        "id": "5ad53c17",
        "outputId": "7e7d3ec6-17e8-42e3-c0ff-42c6681db3ad"
      },
      "outputs": [
        {
          "output_type": "stream",
          "name": "stdout",
          "text": [
            "A Web platform for developing urban early warning systems with a specific focus onfusing information derived from sensors, crowdsourcing, geosimulations, as\n"
          ]
        }
      ],
      "source": [
        "colabis=\"A Web platform for developing urban \\\n",
        "early warning systems with a specific focus on\\\n",
        "fusing information derived from sensors, crowdsourcing, geosimulations, as\"\n",
        "print(colabis)\n",
        "\n",
        "\n",
        "# \\ is used to break the lines when the line is very large then it will used"
      ]
    },
    {
      "cell_type": "code",
      "execution_count": null,
      "id": "4d344257",
      "metadata": {
        "id": "4d344257"
      },
      "outputs": [],
      "source": []
    }
  ],
  "metadata": {
    "kernelspec": {
      "display_name": "Python 3 (ipykernel)",
      "language": "python",
      "name": "python3"
    },
    "language_info": {
      "codemirror_mode": {
        "name": "ipython",
        "version": 3
      },
      "file_extension": ".py",
      "mimetype": "text/x-python",
      "name": "python",
      "nbconvert_exporter": "python",
      "pygments_lexer": "ipython3",
      "version": "3.10.9"
    },
    "colab": {
      "provenance": [],
      "include_colab_link": true
    }
  },
  "nbformat": 4,
  "nbformat_minor": 5
}