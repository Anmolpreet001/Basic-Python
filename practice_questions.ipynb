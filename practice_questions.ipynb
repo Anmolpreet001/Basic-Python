{
  "cells": [
    {
      "cell_type": "markdown",
      "metadata": {
        "id": "view-in-github",
        "colab_type": "text"
      },
      "source": [
        "<a href=\"https://colab.research.google.com/github/Anmolpreet001/Basic-Python/blob/main/practice_questions.ipynb\" target=\"_parent\"><img src=\"https://colab.research.google.com/assets/colab-badge.svg\" alt=\"Open In Colab\"/></a>"
      ]
    },
    {
      "cell_type": "markdown",
      "id": "79b6b0a0",
      "metadata": {
        "id": "79b6b0a0"
      },
      "source": [
        "#                                   Practice questions\n",
        "## 1. wap to print number of digits"
      ]
    },
    {
      "cell_type": "code",
      "execution_count": null,
      "id": "0d565cef",
      "metadata": {
        "id": "0d565cef",
        "outputId": "7ad1f3f7-49e6-4a06-c0da-6376da77e8f2"
      },
      "outputs": [
        {
          "name": "stdout",
          "output_type": "stream",
          "text": [
            "enter the number: 23\n",
            "digits of number\n",
            "3\n",
            "2\n",
            "number of digits:  2\n"
          ]
        }
      ],
      "source": [
        "n1=int(input(\"enter the number: \"))\n",
        "count=0\n",
        "print(\"digits of number\")\n",
        "while n1!=0:\n",
        "    a=n1%10\n",
        "    print(a)\n",
        "    count=count+1\n",
        "    n1=n1//10\n",
        "print(\"number of digits: \",count)\n"
      ]
    },
    {
      "cell_type": "markdown",
      "id": "e26138e7",
      "metadata": {
        "id": "e26138e7"
      },
      "source": [
        "## 2.wap to print the sum of numbers"
      ]
    },
    {
      "cell_type": "code",
      "execution_count": null,
      "id": "4c3c546f",
      "metadata": {
        "id": "4c3c546f",
        "outputId": "07568fff-9268-4df2-8d62-57b9db0975d2"
      },
      "outputs": [
        {
          "name": "stdout",
          "output_type": "stream",
          "text": [
            "enter the number: 12345674000\n",
            "digits of number\n",
            "0\n",
            "0\n",
            "0\n",
            "4\n",
            "7\n",
            "6\n",
            "5\n",
            "4\n",
            "3\n",
            "2\n",
            "1\n",
            "sum of numbers:  32\n",
            "number of digits:  11\n"
          ]
        }
      ],
      "source": [
        "n1=int(input(\"enter the number: \"))\n",
        "count=0\n",
        "sum=0\n",
        "print(\"digits of number\")\n",
        "while n1!=0:\n",
        "    a=n1%10\n",
        "    print(a)\n",
        "    sum=sum+a\n",
        "    count=count+1\n",
        "    n1=n1//10\n",
        "print(\"sum of numbers: \",sum)\n",
        "print(\"number of digits: \",count)\n"
      ]
    },
    {
      "cell_type": "markdown",
      "id": "9a120bef",
      "metadata": {
        "id": "9a120bef"
      },
      "source": [
        "# 3.wap to print the greatest digit of the number"
      ]
    },
    {
      "cell_type": "code",
      "execution_count": null,
      "id": "e65536b5",
      "metadata": {
        "id": "e65536b5",
        "outputId": "da79e7f6-8c8c-4fe7-c803-5bca43c70a93"
      },
      "outputs": [
        {
          "name": "stdout",
          "output_type": "stream",
          "text": [
            "enter the number: 12466\n",
            "digits of number\n",
            "6\n",
            "6\n",
            "4\n",
            "2\n",
            "1\n",
            "greatest digit:  6\n"
          ]
        }
      ],
      "source": [
        "n1=int(input(\"enter the number: \"))\n",
        "max=0\n",
        "print(\"digits of number\")\n",
        "while n1!=0:\n",
        "    a=n1%10\n",
        "    print(a)\n",
        "    if(a > max):\n",
        "         max=a\n",
        "    n1=n1//10\n",
        "print(\"greatest digit: \",max)"
      ]
    },
    {
      "cell_type": "markdown",
      "id": "578a1eed",
      "metadata": {
        "id": "578a1eed"
      },
      "source": [
        "# 4.wap to print the greatest number and print the apperance of greatest number"
      ]
    },
    {
      "cell_type": "code",
      "execution_count": null,
      "id": "1e2f297e",
      "metadata": {
        "id": "1e2f297e",
        "outputId": "d10cbb7d-749e-4113-a0e2-54a4c73785bb"
      },
      "outputs": [
        {
          "name": "stdout",
          "output_type": "stream",
          "text": [
            " enter the number: 699998\n",
            "8\n",
            "9\n",
            "9\n",
            "9\n",
            "9\n",
            "6\n",
            "greatest digit:  9\n",
            "appearance of greatest number:  4\n"
          ]
        }
      ],
      "source": [
        "n1=int(input(\" enter the number: \"))\n",
        "count=0\n",
        "max=0\n",
        "while n1!=0:\n",
        "    a=n1%10\n",
        "    print(a)\n",
        "    n1=n1//10\n",
        "    if(a<=max):\n",
        "        if(a==max): #remainder is less than max and equal to max then cindition is true then statement is true and execute this condition\n",
        "            count=count+1\n",
        "    else :\n",
        "        max=a\n",
        "        count=1\n",
        "print(\"greatest digit: \",max)\n",
        "print(\"appearance of greatest number: \",count)\n",
        "\n",
        ""
      ]
    },
    {
      "cell_type": "markdown",
      "id": "3d5284bb",
      "metadata": {
        "id": "3d5284bb"
      },
      "source": [
        "# wap to accept 10 numbers from user and print their sum,average,max,min"
      ]
    },
    {
      "cell_type": "code",
      "execution_count": null,
      "id": "d4509730",
      "metadata": {
        "id": "d4509730",
        "outputId": "0ead7781-8448-4e70-9428-5fc0239d3c88"
      },
      "outputs": [
        {
          "name": "stdout",
          "output_type": "stream",
          "text": [
            "enter the number: 4\n",
            "Enter 1 number:  2\n",
            "Enter 2 number:  4\n",
            "Enter 3 number:  2\n",
            "Enter 4 number:  4\n",
            "sum of 4 numbers:  12\n",
            "avg of 4 numbers:  3.0\n",
            "maximum number is:  4\n",
            "minimum number is:  2\n"
          ]
        }
      ],
      "source": [
        "n1=int(input(\"enter the number: \"))\n",
        "sum=0\n",
        "avg=0\n",
        "# c=0/\n",
        "for i in range(n1):\n",
        "    a=int(input(f'Enter {i+1} number:  '))\n",
        "    if(i==0):\n",
        "        min=a\n",
        "        max=a\n",
        "    sum=sum+a\n",
        "    if(a>max):\n",
        "        max=a\n",
        "    else :\n",
        "         pass\n",
        "    if(a<min):\n",
        "        min=a\n",
        "    else:\n",
        "        min=min\n",
        "#     c=c+1\n",
        "avg=sum/n1\n",
        "print(f'sum of {n1} numbers: ',sum)\n",
        "print(f'avg of {n1} numbers: ',avg)\n",
        "print(\"maximum number is: \",max)\n",
        "print(\"minimum number is: \",min)\n",
        "\n"
      ]
    },
    {
      "cell_type": "markdown",
      "id": "dcd6c336",
      "metadata": {
        "id": "dcd6c336"
      },
      "source": [
        "### 6. wap to print the pattern\n",
        "#### 1 program"
      ]
    },
    {
      "cell_type": "code",
      "execution_count": null,
      "id": "84503178",
      "metadata": {
        "id": "84503178",
        "outputId": "ef8dc3b9-d9b3-49f6-8618-65a449e370c1"
      },
      "outputs": [
        {
          "name": "stdout",
          "output_type": "stream",
          "text": [
            "1  \n",
            "1 2  \n",
            "1 2 3  \n"
          ]
        }
      ],
      "source": [
        "for i in range(1,4):\n",
        "    for j in range(1,i+1):\n",
        "        print(j,end=\" \")\n",
        "    print(\" \")\n",
        ""
      ]
    },
    {
      "cell_type": "markdown",
      "id": "ac632237",
      "metadata": {
        "id": "ac632237"
      },
      "source": [
        "#### 2. program"
      ]
    },
    {
      "cell_type": "code",
      "execution_count": null,
      "id": "6d4083e0",
      "metadata": {
        "id": "6d4083e0",
        "outputId": "75ab7849-f8be-4ccb-8d95-d8c7b81a371c"
      },
      "outputs": [
        {
          "name": "stdout",
          "output_type": "stream",
          "text": [
            "enter the number: 5\n",
            "   1 \n",
            "  22 \n",
            " 333 \n",
            "4444 \n"
          ]
        }
      ],
      "source": [
        "n=int(input(\"enter the number: \"))\n",
        "for outer in range(1,n):\n",
        "    for inner in range(1,n-outer):\n",
        "        print(\"\",end=\" \")\n",
        "    for middle in range(1,outer+1):\n",
        "            print(outer,end=\"\")\n",
        "    print(\" \")\n",
        ""
      ]
    },
    {
      "cell_type": "markdown",
      "id": "c3050053",
      "metadata": {
        "id": "c3050053"
      },
      "source": [
        "### 3. program"
      ]
    },
    {
      "cell_type": "code",
      "execution_count": null,
      "id": "cd200b83",
      "metadata": {
        "id": "cd200b83",
        "outputId": "0656c175-d3c9-46ce-e8b5-a644d702a2ff"
      },
      "outputs": [
        {
          "name": "stdout",
          "output_type": "stream",
          "text": [
            "enter the number: 5\n",
            "1  \n",
            "1 2  \n",
            "1 2 3  \n",
            "1 2 3 4  \n"
          ]
        }
      ],
      "source": [
        "n=int(input(\"enter the number: \"))\n",
        "for outer in range(1,n):\n",
        "    for inner in range(1,outer+1):\n",
        "        print(inner,end=\" \")\n",
        "    print(\" \")\n",
        ""
      ]
    },
    {
      "cell_type": "markdown",
      "id": "f2f4f542",
      "metadata": {
        "id": "f2f4f542"
      },
      "source": [
        "### 4.program"
      ]
    },
    {
      "cell_type": "code",
      "execution_count": null,
      "id": "7c63301c",
      "metadata": {
        "id": "7c63301c"
      },
      "outputs": [],
      "source": [
        "n=int(input(\"enter the number: \"))\n",
        "for outer in range(1,n):\n",
        "    for inner in range(1,outer+1):\n",
        "        print(outer,end=\" \")\n",
        "print(\" \")"
      ]
    },
    {
      "cell_type": "markdown",
      "id": "7bc3d6ef",
      "metadata": {
        "id": "7bc3d6ef"
      },
      "source": [
        "### 4. program"
      ]
    },
    {
      "cell_type": "code",
      "execution_count": null,
      "id": "b95cfae5",
      "metadata": {
        "id": "b95cfae5",
        "outputId": "c70a5e7c-eb1a-4aa1-9176-e3b4d92df60d"
      },
      "outputs": [
        {
          "name": "stdout",
          "output_type": "stream",
          "text": [
            "enter the number: 5\n",
            "      1  \n",
            "    1 2  \n",
            "  1 2 3  \n",
            "1 2 3 4  \n"
          ]
        }
      ],
      "source": [
        "n=int(input(\"enter the number: \"))\n",
        "for outer in range(1,n):\n",
        "    for inner in range(1,n-outer):\n",
        "        print(\" \",end=\" \")\n",
        "    for middle in range(1,outer+1):\n",
        "        print(middle,end=\" \")\n",
        "    print(\" \")\n",
        ""
      ]
    },
    {
      "cell_type": "markdown",
      "id": "7c21170b",
      "metadata": {
        "id": "7c21170b"
      },
      "source": [
        "### 5 program\n"
      ]
    },
    {
      "cell_type": "code",
      "execution_count": null,
      "id": "7b81ad1d",
      "metadata": {
        "id": "7b81ad1d",
        "outputId": "48e66625-8929-430f-e0f4-f4622df14bfe"
      },
      "outputs": [
        {
          "name": "stdout",
          "output_type": "stream",
          "text": [
            "enter the number: 4\n",
            "4 4 4 4  \n",
            "  3 3 3  \n",
            "    2 2  \n",
            "      1  \n"
          ]
        }
      ],
      "source": [
        "n=int(input(\"enter the number: \"))\n",
        "for outer in range(4,0,-1):\n",
        "    for inner in range(1,n-outer+1):\n",
        "        print(\" \",end=\" \")\n",
        "    for middle in range(1,outer+1):\n",
        "        print(outer,end=\" \")\n",
        "    print(\" \")"
      ]
    },
    {
      "cell_type": "markdown",
      "id": "c0207722",
      "metadata": {
        "id": "c0207722"
      },
      "source": [
        "### 6 program\n",
        "'''\n",
        "4321\n",
        " 321\n",
        "  21\n",
        "   1\n",
        "\n",
        "'''"
      ]
    },
    {
      "cell_type": "code",
      "execution_count": null,
      "id": "589b9920",
      "metadata": {
        "id": "589b9920",
        "outputId": "840fb8d8-148f-49f4-9e1f-dbb7869d3ce3"
      },
      "outputs": [
        {
          "name": "stdout",
          "output_type": "stream",
          "text": [
            "enter the number: 5\n",
            "  4 3 2 1  \n",
            "    3 2 1  \n",
            "      2 1  \n",
            "        1  \n"
          ]
        }
      ],
      "source": [
        "n=int(input(\"enter the number: \"))\n",
        "for outer in range(4,0,-1):\n",
        "    for inner in range(1,n-outer+1):\n",
        "        print(\" \",end=\" \")\n",
        "    for middle in range(outer,0,-1):\n",
        "        print(middle,end=\" \")\n",
        "    print(\" \")"
      ]
    },
    {
      "cell_type": "code",
      "execution_count": null,
      "id": "75e95124",
      "metadata": {
        "id": "75e95124"
      },
      "outputs": [],
      "source": [
        "### 7. program\n",
        "  1\n",
        " 121\n",
        "12321"
      ]
    },
    {
      "cell_type": "code",
      "execution_count": null,
      "id": "bef2a595",
      "metadata": {
        "id": "bef2a595",
        "outputId": "01ba484b-555a-45b6-88b1-501829325308"
      },
      "outputs": [
        {
          "name": "stdout",
          "output_type": "stream",
          "text": [
            "enter the number: 4\n",
            "    1  \n",
            "  1 2 1  \n",
            "1 2 3 2 1  \n"
          ]
        }
      ],
      "source": [
        "n=int(input(\"enter the number: \"))\n",
        "for outer in range(1,n):\n",
        "    for inner in range(1,n-outer):\n",
        "        print(\" \",end=\" \")\n",
        "    for middle in range(1,outer+1):\n",
        "        print(middle,end=\" \")\n",
        "    for last in range(outer-1,0,-1): # this condtion is used to\n",
        "        print(last,end=\" \")\n",
        "    print(\" \")"
      ]
    },
    {
      "cell_type": "markdown",
      "id": "c570c128",
      "metadata": {
        "id": "c570c128"
      },
      "source": [
        "### wap program to print this pattern\n",
        "'''\n",
        "0001 to 9999\n",
        "'''"
      ]
    },
    {
      "cell_type": "code",
      "execution_count": null,
      "id": "562a2b8f",
      "metadata": {
        "id": "562a2b8f",
        "outputId": "790e9168-3ca3-4e5c-808d-cf14cc965e4c"
      },
      "outputs": [
        {
          "name": "stdout",
          "output_type": "stream",
          "text": [
            "sum of this four numbers is 9:  0 0 0 9\n",
            "sum of this four numbers is 9:  0 0 1 8\n",
            "sum of this four numbers is 9:  0 0 2 7\n",
            "sum of this four numbers is 9:  0 0 3 6\n",
            "sum of this four numbers is 9:  0 0 4 5\n",
            "sum of this four numbers is 9:  0 0 5 4\n",
            "sum of this four numbers is 9:  0 0 6 3\n",
            "sum of this four numbers is 9:  0 0 7 2\n",
            "sum of this four numbers is 9:  0 0 8 1\n",
            "sum of this four numbers is 9:  0 0 9 0\n",
            "sum of this four numbers is 9:  0 1 0 8\n",
            "sum of this four numbers is 9:  0 1 1 7\n",
            "sum of this four numbers is 9:  0 1 2 6\n",
            "sum of this four numbers is 9:  0 1 3 5\n",
            "sum of this four numbers is 9:  0 1 4 4\n",
            "sum of this four numbers is 9:  0 1 5 3\n",
            "sum of this four numbers is 9:  0 1 6 2\n",
            "sum of this four numbers is 9:  0 1 7 1\n",
            "sum of this four numbers is 9:  0 1 8 0\n",
            "sum of this four numbers is 9:  0 2 0 7\n",
            "sum of this four numbers is 9:  0 2 1 6\n",
            "sum of this four numbers is 9:  0 2 2 5\n",
            "sum of this four numbers is 9:  0 2 3 4\n",
            "sum of this four numbers is 9:  0 2 4 3\n",
            "sum of this four numbers is 9:  0 2 5 2\n",
            "sum of this four numbers is 9:  0 2 6 1\n",
            "sum of this four numbers is 9:  0 2 7 0\n",
            "sum of this four numbers is 9:  0 3 0 6\n",
            "sum of this four numbers is 9:  0 3 1 5\n",
            "sum of this four numbers is 9:  0 3 2 4\n",
            "sum of this four numbers is 9:  0 3 3 3\n",
            "sum of this four numbers is 9:  0 3 4 2\n",
            "sum of this four numbers is 9:  0 3 5 1\n",
            "sum of this four numbers is 9:  0 3 6 0\n",
            "sum of this four numbers is 9:  0 4 0 5\n",
            "sum of this four numbers is 9:  0 4 1 4\n",
            "sum of this four numbers is 9:  0 4 2 3\n",
            "sum of this four numbers is 9:  0 4 3 2\n",
            "sum of this four numbers is 9:  0 4 4 1\n",
            "sum of this four numbers is 9:  0 4 5 0\n",
            "sum of this four numbers is 9:  0 5 0 4\n",
            "sum of this four numbers is 9:  0 5 1 3\n",
            "sum of this four numbers is 9:  0 5 2 2\n",
            "sum of this four numbers is 9:  0 5 3 1\n",
            "sum of this four numbers is 9:  0 5 4 0\n",
            "sum of this four numbers is 9:  0 6 0 3\n",
            "sum of this four numbers is 9:  0 6 1 2\n",
            "sum of this four numbers is 9:  0 6 2 1\n",
            "sum of this four numbers is 9:  0 6 3 0\n",
            "sum of this four numbers is 9:  0 7 0 2\n",
            "sum of this four numbers is 9:  0 7 1 1\n",
            "sum of this four numbers is 9:  0 7 2 0\n",
            "sum of this four numbers is 9:  0 8 0 1\n",
            "sum of this four numbers is 9:  0 8 1 0\n",
            "sum of this four numbers is 9:  0 9 0 0\n",
            "sum of this four numbers is 9:  1 0 0 8\n",
            "sum of this four numbers is 9:  1 0 1 7\n",
            "sum of this four numbers is 9:  1 0 2 6\n",
            "sum of this four numbers is 9:  1 0 3 5\n",
            "sum of this four numbers is 9:  1 0 4 4\n",
            "sum of this four numbers is 9:  1 0 5 3\n",
            "sum of this four numbers is 9:  1 0 6 2\n",
            "sum of this four numbers is 9:  1 0 7 1\n",
            "sum of this four numbers is 9:  1 0 8 0\n",
            "sum of this four numbers is 9:  1 1 0 7\n",
            "sum of this four numbers is 9:  1 1 1 6\n",
            "sum of this four numbers is 9:  1 1 2 5\n",
            "sum of this four numbers is 9:  1 1 3 4\n",
            "sum of this four numbers is 9:  1 1 4 3\n",
            "sum of this four numbers is 9:  1 1 5 2\n",
            "sum of this four numbers is 9:  1 1 6 1\n",
            "sum of this four numbers is 9:  1 1 7 0\n",
            "sum of this four numbers is 9:  1 2 0 6\n",
            "sum of this four numbers is 9:  1 2 1 5\n",
            "sum of this four numbers is 9:  1 2 2 4\n",
            "sum of this four numbers is 9:  1 2 3 3\n",
            "sum of this four numbers is 9:  1 2 4 2\n",
            "sum of this four numbers is 9:  1 2 5 1\n",
            "sum of this four numbers is 9:  1 2 6 0\n",
            "sum of this four numbers is 9:  1 3 0 5\n",
            "sum of this four numbers is 9:  1 3 1 4\n",
            "sum of this four numbers is 9:  1 3 2 3\n",
            "sum of this four numbers is 9:  1 3 3 2\n",
            "sum of this four numbers is 9:  1 3 4 1\n",
            "sum of this four numbers is 9:  1 3 5 0\n",
            "sum of this four numbers is 9:  1 4 0 4\n",
            "sum of this four numbers is 9:  1 4 1 3\n",
            "sum of this four numbers is 9:  1 4 2 2\n",
            "sum of this four numbers is 9:  1 4 3 1\n",
            "sum of this four numbers is 9:  1 4 4 0\n",
            "sum of this four numbers is 9:  1 5 0 3\n",
            "sum of this four numbers is 9:  1 5 1 2\n",
            "sum of this four numbers is 9:  1 5 2 1\n",
            "sum of this four numbers is 9:  1 5 3 0\n",
            "sum of this four numbers is 9:  1 6 0 2\n",
            "sum of this four numbers is 9:  1 6 1 1\n",
            "sum of this four numbers is 9:  1 6 2 0\n",
            "sum of this four numbers is 9:  1 7 0 1\n",
            "sum of this four numbers is 9:  1 7 1 0\n",
            "sum of this four numbers is 9:  1 8 0 0\n",
            "sum of this four numbers is 9:  2 0 0 7\n",
            "sum of this four numbers is 9:  2 0 1 6\n",
            "sum of this four numbers is 9:  2 0 2 5\n",
            "sum of this four numbers is 9:  2 0 3 4\n",
            "sum of this four numbers is 9:  2 0 4 3\n",
            "sum of this four numbers is 9:  2 0 5 2\n",
            "sum of this four numbers is 9:  2 0 6 1\n",
            "sum of this four numbers is 9:  2 0 7 0\n",
            "sum of this four numbers is 9:  2 1 0 6\n",
            "sum of this four numbers is 9:  2 1 1 5\n",
            "sum of this four numbers is 9:  2 1 2 4\n",
            "sum of this four numbers is 9:  2 1 3 3\n",
            "sum of this four numbers is 9:  2 1 4 2\n",
            "sum of this four numbers is 9:  2 1 5 1\n",
            "sum of this four numbers is 9:  2 1 6 0\n",
            "sum of this four numbers is 9:  2 2 0 5\n",
            "sum of this four numbers is 9:  2 2 1 4\n",
            "sum of this four numbers is 9:  2 2 2 3\n",
            "sum of this four numbers is 9:  2 2 3 2\n",
            "sum of this four numbers is 9:  2 2 4 1\n",
            "sum of this four numbers is 9:  2 2 5 0\n",
            "sum of this four numbers is 9:  2 3 0 4\n",
            "sum of this four numbers is 9:  2 3 1 3\n",
            "sum of this four numbers is 9:  2 3 2 2\n",
            "sum of this four numbers is 9:  2 3 3 1\n",
            "sum of this four numbers is 9:  2 3 4 0\n",
            "sum of this four numbers is 9:  2 4 0 3\n",
            "sum of this four numbers is 9:  2 4 1 2\n",
            "sum of this four numbers is 9:  2 4 2 1\n",
            "sum of this four numbers is 9:  2 4 3 0\n",
            "sum of this four numbers is 9:  2 5 0 2\n",
            "sum of this four numbers is 9:  2 5 1 1\n",
            "sum of this four numbers is 9:  2 5 2 0\n",
            "sum of this four numbers is 9:  2 6 0 1\n",
            "sum of this four numbers is 9:  2 6 1 0\n",
            "sum of this four numbers is 9:  2 7 0 0\n",
            "sum of this four numbers is 9:  3 0 0 6\n",
            "sum of this four numbers is 9:  3 0 1 5\n",
            "sum of this four numbers is 9:  3 0 2 4\n",
            "sum of this four numbers is 9:  3 0 3 3\n",
            "sum of this four numbers is 9:  3 0 4 2\n",
            "sum of this four numbers is 9:  3 0 5 1\n",
            "sum of this four numbers is 9:  3 0 6 0\n",
            "sum of this four numbers is 9:  3 1 0 5\n",
            "sum of this four numbers is 9:  3 1 1 4\n",
            "sum of this four numbers is 9:  3 1 2 3\n",
            "sum of this four numbers is 9:  3 1 3 2\n",
            "sum of this four numbers is 9:  3 1 4 1\n",
            "sum of this four numbers is 9:  3 1 5 0\n",
            "sum of this four numbers is 9:  3 2 0 4\n",
            "sum of this four numbers is 9:  3 2 1 3\n",
            "sum of this four numbers is 9:  3 2 2 2\n",
            "sum of this four numbers is 9:  3 2 3 1\n",
            "sum of this four numbers is 9:  3 2 4 0\n",
            "sum of this four numbers is 9:  3 3 0 3\n",
            "sum of this four numbers is 9:  3 3 1 2\n",
            "sum of this four numbers is 9:  3 3 2 1\n",
            "sum of this four numbers is 9:  3 3 3 0\n",
            "sum of this four numbers is 9:  3 4 0 2\n",
            "sum of this four numbers is 9:  3 4 1 1\n",
            "sum of this four numbers is 9:  3 4 2 0\n",
            "sum of this four numbers is 9:  3 5 0 1\n",
            "sum of this four numbers is 9:  3 5 1 0\n",
            "sum of this four numbers is 9:  3 6 0 0\n",
            "sum of this four numbers is 9:  4 0 0 5\n",
            "sum of this four numbers is 9:  4 0 1 4\n",
            "sum of this four numbers is 9:  4 0 2 3\n",
            "sum of this four numbers is 9:  4 0 3 2\n",
            "sum of this four numbers is 9:  4 0 4 1\n",
            "sum of this four numbers is 9:  4 0 5 0\n",
            "sum of this four numbers is 9:  4 1 0 4\n",
            "sum of this four numbers is 9:  4 1 1 3\n",
            "sum of this four numbers is 9:  4 1 2 2\n",
            "sum of this four numbers is 9:  4 1 3 1\n",
            "sum of this four numbers is 9:  4 1 4 0\n",
            "sum of this four numbers is 9:  4 2 0 3\n",
            "sum of this four numbers is 9:  4 2 1 2\n",
            "sum of this four numbers is 9:  4 2 2 1\n",
            "sum of this four numbers is 9:  4 2 3 0\n",
            "sum of this four numbers is 9:  4 3 0 2\n",
            "sum of this four numbers is 9:  4 3 1 1\n",
            "sum of this four numbers is 9:  4 3 2 0\n",
            "sum of this four numbers is 9:  4 4 0 1\n",
            "sum of this four numbers is 9:  4 4 1 0\n",
            "sum of this four numbers is 9:  4 5 0 0\n",
            "sum of this four numbers is 9:  5 0 0 4\n",
            "sum of this four numbers is 9:  5 0 1 3\n",
            "sum of this four numbers is 9:  5 0 2 2\n",
            "sum of this four numbers is 9:  5 0 3 1\n",
            "sum of this four numbers is 9:  5 0 4 0\n",
            "sum of this four numbers is 9:  5 1 0 3\n",
            "sum of this four numbers is 9:  5 1 1 2\n",
            "sum of this four numbers is 9:  5 1 2 1\n",
            "sum of this four numbers is 9:  5 1 3 0\n",
            "sum of this four numbers is 9:  5 2 0 2\n",
            "sum of this four numbers is 9:  5 2 1 1\n",
            "sum of this four numbers is 9:  5 2 2 0\n",
            "sum of this four numbers is 9:  5 3 0 1\n",
            "sum of this four numbers is 9:  5 3 1 0\n",
            "sum of this four numbers is 9:  5 4 0 0\n",
            "sum of this four numbers is 9:  6 0 0 3\n",
            "sum of this four numbers is 9:  6 0 1 2\n",
            "sum of this four numbers is 9:  6 0 2 1\n",
            "sum of this four numbers is 9:  6 0 3 0\n",
            "sum of this four numbers is 9:  6 1 0 2\n",
            "sum of this four numbers is 9:  6 1 1 1\n",
            "sum of this four numbers is 9:  6 1 2 0\n",
            "sum of this four numbers is 9:  6 2 0 1\n",
            "sum of this four numbers is 9:  6 2 1 0\n",
            "sum of this four numbers is 9:  6 3 0 0\n",
            "sum of this four numbers is 9:  7 0 0 2\n",
            "sum of this four numbers is 9:  7 0 1 1\n",
            "sum of this four numbers is 9:  7 0 2 0\n",
            "sum of this four numbers is 9:  7 1 0 1\n",
            "sum of this four numbers is 9:  7 1 1 0\n",
            "sum of this four numbers is 9:  7 2 0 0\n",
            "sum of this four numbers is 9:  8 0 0 1\n",
            "sum of this four numbers is 9:  8 0 1 0\n",
            "sum of this four numbers is 9:  8 1 0 0\n",
            "sum of this four numbers is 9:  9 0 0 0\n",
            " counting of these numbers:  220\n"
          ]
        }
      ],
      "source": [
        "\n",
        "sum=0\n",
        "count=0\n",
        "for i in range(0,10):\n",
        "    for j in range(0,10):\n",
        "        for k in range(0,10):\n",
        "            for h in range(0,10):\n",
        "                if(i+j+k+h==9):\n",
        "                    count=count+1\n",
        "                    print(\"sum of this four numbers is 9: \",i,j,k,h)\n",
        "print(\" counting of these numbers: \",count)"
      ]
    },
    {
      "cell_type": "code",
      "execution_count": null,
      "id": "12b6be4e",
      "metadata": {
        "id": "12b6be4e"
      },
      "outputs": [],
      "source": []
    }
  ],
  "metadata": {
    "kernelspec": {
      "display_name": "Python 3 (ipykernel)",
      "language": "python",
      "name": "python3"
    },
    "language_info": {
      "codemirror_mode": {
        "name": "ipython",
        "version": 3
      },
      "file_extension": ".py",
      "mimetype": "text/x-python",
      "name": "python",
      "nbconvert_exporter": "python",
      "pygments_lexer": "ipython3",
      "version": "3.10.9"
    },
    "colab": {
      "provenance": [],
      "include_colab_link": true
    }
  },
  "nbformat": 4,
  "nbformat_minor": 5
}