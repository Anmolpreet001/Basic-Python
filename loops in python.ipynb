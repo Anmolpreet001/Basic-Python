{
 "cells": [
  {
   "cell_type": "code",
   "execution_count": 1,
   "id": "504d70f8",
   "metadata": {},
   "outputs": [
    {
     "name": "stdout",
     "output_type": "stream",
     "text": [
      "hellon anmol\n"
     ]
    }
   ],
   "source": [
    "print(\"hellon anmol\")"
   ]
  },
  {
   "cell_type": "code",
   "execution_count": null,
   "id": "46513283",
   "metadata": {},
   "outputs": [],
   "source": [
    "ram=10\n",
    "sham=20\n",
    "sham"
   ]
  },
  {
   "cell_type": "code",
   "execution_count": 1,
   "id": "c689694b",
   "metadata": {},
   "outputs": [
    {
     "name": "stdout",
     "output_type": "stream",
     "text": [
      "100\n"
     ]
    }
   ],
   "source": [
    "a=10\n",
    "b=20\n",
    "c=30\n",
    "d=40\n",
    "sum=0\n",
    "sum=a+b+c+d\n",
    "print(sum)"
   ]
  },
  {
   "cell_type": "code",
   "execution_count": 8,
   "id": "bc66acef",
   "metadata": {},
   "outputs": [
    {
     "name": "stdout",
     "output_type": "stream",
     "text": [
      "enter the number: 12\n",
      "12\n",
      "enter the number: 12\n",
      "sum of all numbers:  24\n"
     ]
    }
   ],
   "source": [
    "sum=0\n",
    "n1=0\n",
    "n1=input(\"enter the number: \")\n",
    "sum=sum+int(n1);\n",
    "print(sum)\n",
    "n1=int(input(\"enter the number: \"))\n",
    "sum=sum+(n1);\n",
    "print(\"sum of all numbers: \",sum)"
   ]
  },
  {
   "cell_type": "code",
   "execution_count": 3,
   "id": "da53a6bf",
   "metadata": {},
   "outputs": [
    {
     "name": "stdout",
     "output_type": "stream",
     "text": [
      "enter the number12\n",
      "enter the number12\n",
      "enter the number12\n",
      "enter the number12\n",
      "48\n",
      "4\n"
     ]
    }
   ],
   "source": [
    "count=0\n",
    "sum=0\n",
    "while count<4:\n",
    "    n1=int(input(\"enter the number\"))\n",
    "    sum=sum+int(n1);\n",
    "    count=count+1\n",
    "print(sum)\n",
    "print(count)\n",
    "\n",
    "\n"
   ]
  },
  {
   "cell_type": "code",
   "execution_count": 19,
   "id": "873d364c",
   "metadata": {},
   "outputs": [
    {
     "ename": "SyntaxError",
     "evalue": "incomplete input (3252934063.py, line 9)",
     "output_type": "error",
     "traceback": [
      "\u001b[1;36m  Cell \u001b[1;32mIn[19], line 9\u001b[1;36m\u001b[0m\n\u001b[1;33m    \u001b[0m\n\u001b[1;37m    ^\u001b[0m\n\u001b[1;31mSyntaxError\u001b[0m\u001b[1;31m:\u001b[0m incomplete input\n"
     ]
    }
   ],
   "source": [
    "count=0\n",
    "print(\"apple\")\n",
    "count=count-1\n",
    "count<5\n",
    "\n",
    "\n",
    "\n",
    "\n",
    "\n"
   ]
  },
  {
   "cell_type": "code",
   "execution_count": 26,
   "id": "b404269a",
   "metadata": {},
   "outputs": [
    {
     "name": "stdout",
     "output_type": "stream",
     "text": [
      "pick apple\n",
      "2\n",
      "pick apple\n",
      "3\n",
      "pick apple\n",
      "4\n"
     ]
    }
   ],
   "source": [
    "count=1\n",
    "while count<4:\n",
    "    print(\"pick apple\")\n",
    "    count=count+1\n",
    "    print(count)\n"
   ]
  },
  {
   "cell_type": "code",
   "execution_count": null,
   "id": "5e9c25a4",
   "metadata": {},
   "outputs": [],
   "source": []
  }
 ],
 "metadata": {
  "kernelspec": {
   "display_name": "Python 3 (ipykernel)",
   "language": "python",
   "name": "python3"
  },
  "language_info": {
   "codemirror_mode": {
    "name": "ipython",
    "version": 3
   },
   "file_extension": ".py",
   "mimetype": "text/x-python",
   "name": "python",
   "nbconvert_exporter": "python",
   "pygments_lexer": "ipython3",
   "version": "3.10.9"
  }
 },
 "nbformat": 4,
 "nbformat_minor": 5
}
