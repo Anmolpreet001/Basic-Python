{
  "cells": [
    {
      "cell_type": "markdown",
      "metadata": {
        "id": "view-in-github",
        "colab_type": "text"
      },
      "source": [
        "<a href=\"https://colab.research.google.com/github/Anmolpreet001/Basic-Python/blob/main/list_in_python.ipynb\" target=\"_parent\"><img src=\"https://colab.research.google.com/assets/colab-badge.svg\" alt=\"Open In Colab\"/></a>"
      ]
    },
    {
      "cell_type": "markdown",
      "id": "4c56582e",
      "metadata": {
        "id": "4c56582e"
      },
      "source": [
        "# list programs in python"
      ]
    },
    {
      "cell_type": "code",
      "execution_count": null,
      "id": "e553f23e",
      "metadata": {
        "id": "e553f23e",
        "outputId": "24af02b3-0c28-41c2-e9d6-ffbf2f67aace"
      },
      "outputs": [
        {
          "name": "stdout",
          "output_type": "stream",
          "text": [
            "['Anmol', 10, 20, 30, 40, 50, 'mehak']\n"
          ]
        }
      ],
      "source": [
        "l1=[\"Anmol\",10,20,30,40,50,\"mehak\"] #list is mutable because it can change but tuple does not change\n",
        "print(l1)\n",
        "\n"
      ]
    },
    {
      "cell_type": "code",
      "execution_count": null,
      "id": "58dffd88",
      "metadata": {
        "id": "58dffd88",
        "outputId": "d3b7f08e-888e-41f6-875f-daae8c860a05"
      },
      "outputs": [
        {
          "name": "stdout",
          "output_type": "stream",
          "text": [
            "[10, 20, 30, 40, [1, 2, 3, 4, 5], 50, 60, 70]\n",
            "[30, 40, [1, 2, 3, 4, 5], 50, 60, 70]\n",
            "[3, 4, 5]\n"
          ]
        }
      ],
      "source": [
        "l1=[10,20,30,40,[1,2,3,4,5],50,60,70]\n",
        "print(l1)\n",
        "print(l1[2:])\n",
        "print(l1[4][2:])"
      ]
    },
    {
      "cell_type": "code",
      "execution_count": null,
      "id": "498b8e31",
      "metadata": {
        "id": "498b8e31",
        "outputId": "5ceadedc-1d8a-449d-9a5d-ff0a9913843e"
      },
      "outputs": [
        {
          "name": "stdout",
          "output_type": "stream",
          "text": [
            "[10, 20, 30, 40, 50, 60]\n",
            "5\n",
            "after delting the keyword in the list:  [10, 30, 40, 50, 60]\n",
            "60\n",
            "10\n",
            "[10, 30, 40, 50, 60, 30, 40, 50, 60, 70, 80, 50, 606, 463]\n",
            "[60, 50, 40, 30, 10]\n",
            "None\n",
            " after appending a new element in the list  [10, 30, 40, 50, 60, 100]\n",
            "None\n",
            "[100, 60, 50, 40, 30, 10]\n",
            "None\n",
            "[10, 30, 40, 50, 60, 100]\n"
          ]
        }
      ],
      "source": [
        "list1 = [10, 20, 30, 40,50,60]\n",
        "list2=[30,40,50,60,70,80,50,606,463]\n",
        "print(list1)\n",
        "del list1[1]\n",
        "print(len(list1))\n",
        "print(\"after delting the keyword in the list: \",list1)\n",
        "print(max(list1))\n",
        "print(min(list1))\n",
        "print(list1+list2)\n",
        "print(list1[-1:-6:-1])\n",
        "print(list1.append(100))\n",
        "print(\" after appending a new element in the list \",list1)\n",
        "print(list1.reverse())\n",
        "print(list1)\n",
        "print(list1.sort())\n",
        "print(list1)\n"
      ]
    },
    {
      "cell_type": "markdown",
      "id": "dff84fe7",
      "metadata": {
        "id": "dff84fe7"
      },
      "source": [
        "## fibbonaci series in python\n",
        "### 0,1,1,2,3,5,8,13......"
      ]
    },
    {
      "cell_type": "code",
      "execution_count": null,
      "id": "acf471a7",
      "metadata": {
        "id": "acf471a7",
        "outputId": "0fdc7e98-691b-47a8-a80c-424b5218f22b"
      },
      "outputs": [
        {
          "name": "stdout",
          "output_type": "stream",
          "text": [
            "enter the number: 7\n",
            "0\n",
            "1\n",
            "2\n",
            "2\n",
            "2\n",
            "2\n",
            "2\n",
            "2\n"
          ]
        }
      ],
      "source": [
        "n=int(input(\"enter the number: \"))\n",
        "a=0\n",
        "b=1\n",
        "print(a)\n",
        "print(b)\n",
        "for i in range(1,n):\n",
        "    c=i\n",
        "    temp=c+d\n",
        "    c=d\n",
        "    d=temp\n",
        "    print(temp)"
      ]
    },
    {
      "cell_type": "markdown",
      "id": "96a15a67",
      "metadata": {
        "id": "96a15a67"
      },
      "source": [
        "## tuples in python\n"
      ]
    },
    {
      "cell_type": "code",
      "execution_count": null,
      "id": "d05bf361",
      "metadata": {
        "id": "d05bf361",
        "outputId": "9e97289b-d9e8-4745-8e7d-5c3ee9a8f457"
      },
      "outputs": [
        {
          "name": "stdout",
          "output_type": "stream",
          "text": [
            "(10, 20, 30, 40, 50)\n"
          ]
        },
        {
          "ename": "TypeError",
          "evalue": "'tuple' object does not support item assignment",
          "output_type": "error",
          "traceback": [
            "\u001b[1;31m---------------------------------------------------------------------------\u001b[0m",
            "\u001b[1;31mTypeError\u001b[0m                                 Traceback (most recent call last)",
            "Cell \u001b[1;32mIn[2], line 3\u001b[0m\n\u001b[0;32m      1\u001b[0m t1\u001b[38;5;241m=\u001b[39m(\u001b[38;5;241m10\u001b[39m,\u001b[38;5;241m20\u001b[39m,\u001b[38;5;241m30\u001b[39m,\u001b[38;5;241m40\u001b[39m,\u001b[38;5;241m50\u001b[39m)\n\u001b[0;32m      2\u001b[0m \u001b[38;5;28mprint\u001b[39m(t1)\n\u001b[1;32m----> 3\u001b[0m t1[\u001b[38;5;241m0\u001b[39m]\u001b[38;5;241m=\u001b[39m\u001b[38;5;241m111\u001b[39m\n\u001b[0;32m      4\u001b[0m \u001b[38;5;28mprint\u001b[39m(t1)\n",
            "\u001b[1;31mTypeError\u001b[0m: 'tuple' object does not support item assignment"
          ]
        }
      ],
      "source": [
        "t1=(10,20,30,40,50)\n",
        "print(t1)\n"
      ]
    },
    {
      "cell_type": "markdown",
      "id": "256c92df",
      "metadata": {
        "id": "256c92df"
      },
      "source": [
        "## find the number is prime or not\n"
      ]
    },
    {
      "cell_type": "code",
      "execution_count": null,
      "id": "d13c079f",
      "metadata": {
        "id": "d13c079f"
      },
      "outputs": [],
      "source": [
        "n=int(input(\"enter the number: \"))\n",
        "count=0\n",
        "for i in range(1,n+1):\n",
        "    if(n%i==0):\n",
        "        count=count+1\n",
        "if(count>2):\n",
        "    print(\"number is not prime\")\n",
        "else:\n",
        "    print(\"number is prime\")"
      ]
    },
    {
      "cell_type": "markdown",
      "id": "2302e972",
      "metadata": {
        "id": "2302e972"
      },
      "source": [
        "## find the frequency of the number"
      ]
    },
    {
      "cell_type": "code",
      "execution_count": null,
      "id": "271f977b",
      "metadata": {
        "id": "271f977b",
        "outputId": "d95116b4-175a-4441-9f97-58cc4ed6621a"
      },
      "outputs": [
        {
          "name": "stdout",
          "output_type": "stream",
          "text": [
            "enter the number: 55\n",
            "10\n",
            "20\n",
            "10\n",
            "30\n",
            "50\n",
            "20\n",
            "frequency of55 which is in our list:  0\n",
            "element is not present\n"
          ]
        }
      ],
      "source": [
        "n=int(input(\"enter the number: \"))\n",
        "l1=[10,20,10,30,50,20]\n",
        "count=0\n",
        "for i in range(len(l1)):\n",
        "    print(l1[i])\n",
        "    if(l1[i]==n):\n",
        "        count=count+1\n",
        "    else:\n",
        "        pass\n",
        "print(\"frequency of\" +str(n)+\" which is in our list: \",count)\n",
        "if(count==0):\n",
        "    print(\"element is not present\")\n",
        ""
      ]
    },
    {
      "cell_type": "markdown",
      "id": "1d604c17",
      "metadata": {
        "id": "1d604c17"
      },
      "source": [
        "##  find the factor of the number"
      ]
    },
    {
      "cell_type": "markdown",
      "id": "091616a8",
      "metadata": {
        "id": "091616a8"
      },
      "source": [
        "n=int(input(\"enter the number: \"))\n",
        "for i in range(1,n+1):\n",
        "    if(n%i==0):\n",
        "        print(\"factors of \"+str(n)+ \" number: \",i)\n",
        "    else:\n",
        "        pass"
      ]
    },
    {
      "cell_type": "markdown",
      "id": "9536980d",
      "metadata": {
        "id": "9536980d"
      },
      "source": [
        "## wap of exchange first and last element of the list"
      ]
    },
    {
      "cell_type": "code",
      "execution_count": null,
      "id": "5454220a",
      "metadata": {
        "id": "5454220a",
        "outputId": "1e8944c1-5be7-4058-ac85-fb9172c434e7"
      },
      "outputs": [
        {
          "name": "stdout",
          "output_type": "stream",
          "text": [
            "[10, 20, 30, 40, 50]\n",
            "new list after reversing the last and first number\n",
            "[50, 20, 30, 40, 10]\n"
          ]
        }
      ],
      "source": [
        "l=[10,20,30,40,50]\n",
        "print(l)\n",
        "temp=l[0]\n",
        "l[0]=l[4]\n",
        "l[4]=temp\n",
        "print(\"new list after reversing the last and first number\")\n",
        "print(l)"
      ]
    },
    {
      "cell_type": "markdown",
      "id": "d0949f5a",
      "metadata": {
        "id": "d0949f5a"
      },
      "source": [
        "## wap of swap two numbers in the list"
      ]
    },
    {
      "cell_type": "code",
      "execution_count": null,
      "id": "1987cbff",
      "metadata": {
        "id": "1987cbff",
        "outputId": "03f4a877-7879-4b0e-b444-b4b6d48b2d92"
      },
      "outputs": [
        {
          "name": "stdout",
          "output_type": "stream",
          "text": [
            "5\n",
            "[10, 'anmol', 20, 30, 'dhillon']\n",
            "after swapping the two numbers in the list [10, 'anmol', 20, 30, 'dhillon']\n"
          ]
        }
      ],
      "source": [
        "l1=[10,'anmol',20,30,'dhillon']\n",
        "print(len(l1))\n",
        "print(l1)\n",
        "temp=l[1]\n",
        "l[1]=l[2]\n",
        "l[2]=temp\n",
        "print(\"after swapping the two numbers in the list\",l1)"
      ]
    },
    {
      "cell_type": "markdown",
      "id": "b3dc79b3",
      "metadata": {
        "id": "b3dc79b3"
      },
      "source": [
        "## wap to check  the number is exist or not in the list"
      ]
    },
    {
      "cell_type": "code",
      "execution_count": null,
      "id": "b77ea3f2",
      "metadata": {
        "id": "b77ea3f2",
        "outputId": "22f16a30-1e9c-447c-a2d2-14f0b3c9351a"
      },
      "outputs": [
        {
          "name": "stdout",
          "output_type": "stream",
          "text": [
            " enter the number whether it is present or not in the list50\n",
            "number is present in the list\n"
          ]
        }
      ],
      "source": [
        "n=int(input(\" enter the number whether it is present or not in the list\"))\n",
        "l1=[10,20,30,40,50]\n",
        "flag=0\n",
        "for i in range(0,len(l1)):\n",
        "    if(n==l1[i]):\n",
        "        flag=1\n",
        "if(flag==1):\n",
        "    print(\"number is present in the list\")\n",
        "else:\n",
        "    print(\"number is not present in the list\")\n",
        ""
      ]
    },
    {
      "cell_type": "markdown",
      "id": "50063bc3",
      "metadata": {
        "id": "50063bc3"
      },
      "source": [
        "## addresses in python"
      ]
    },
    {
      "cell_type": "code",
      "execution_count": null,
      "id": "c1e6d0dd",
      "metadata": {
        "id": "c1e6d0dd",
        "outputId": "fe860521-a23d-4768-ef5d-7751dbd2969b"
      },
      "outputs": [
        {
          "name": "stdout",
          "output_type": "stream",
          "text": [
            "a:10 , b:22, id(a):1182389961232, id(b):1182389961616\n",
            "c: 10, id(c): 1182389961232\n"
          ]
        }
      ],
      "source": [
        "a=10\n",
        "b=22\n",
        "c=a\n",
        "print(\"a:{0} , b:{1}, id(a):{2}, id(b):{3}\".format(a,b,id(a),id(b)))\n",
        "print(\"c: {0}, id(c): {1}\".format(c,id(c)))"
      ]
    },
    {
      "cell_type": "code",
      "execution_count": null,
      "id": "a1f41607",
      "metadata": {
        "id": "a1f41607",
        "outputId": "e93cb74e-e8ac-4230-9ded-44b5911b2ffd"
      },
      "outputs": [
        {
          "name": "stdout",
          "output_type": "stream",
          "text": [
            "a:11 , b:22, id(a):1182389961264, id(b):1182389961616\n",
            "c: 11, id(c): 1182389961264\n"
          ]
        }
      ],
      "source": [
        "a=10\n",
        "b=22\n",
        "a=a+1\n",
        "c=a\n",
        "print(\"a:{0} , b:{1}, id(a):{2}, id(b):{3}\".format(a,b,id(a),id(b)))\n",
        "print(\"c: {0}, id(c): {1}\".format(c,id(c)))"
      ]
    },
    {
      "cell_type": "markdown",
      "id": "09568854",
      "metadata": {
        "id": "09568854"
      },
      "source": [
        "## functions in pyhton"
      ]
    },
    {
      "cell_type": "code",
      "execution_count": null,
      "id": "31036c18",
      "metadata": {
        "id": "31036c18",
        "outputId": "6d899244-ff6e-4311-a48a-2ecb39104a31"
      },
      "outputs": [
        {
          "name": "stdout",
          "output_type": "stream",
          "text": [
            "<class 'list'> <class 'tuple'> <class 'dict'>\n",
            "lenght of list 4 length of tuple:  8 lenght of dictinary:  4\n"
          ]
        }
      ],
      "source": [
        "students = ['Anmol' ,'reshav', 'badal' ,'naman']\n",
        "nameAge = ('Anmol',21 ,'reshav',20, 'badal',19 ,'naman',17)\n",
        "dictMarks = { 'Anmol':98 ,'reshav':95, 'badal':93 ,'naman':99}\n",
        "print(type(students) , type(nameAge) , type(dictMarks))\n",
        "print(\"lenght of list\",len(students),  \"length of tuple: \",len(nameAge),\"lenght of dictinary: \",len(dictMarks))"
      ]
    },
    {
      "cell_type": "code",
      "execution_count": null,
      "id": "9fcc0e04",
      "metadata": {
        "id": "9fcc0e04",
        "outputId": "4efec0a9-3a6b-48fa-a203-93adeb24e15c"
      },
      "outputs": [
        {
          "name": "stdout",
          "output_type": "stream",
          "text": [
            "enter number of lines 10\n",
            "         1  \n",
            "        1 2  \n",
            "       1 2 3  \n",
            "      1 2 3 4  \n",
            "     1 2 3 4 5  \n",
            "    1 2 3 4 5 6  \n",
            "   1 2 3 4 5 6 7  \n",
            "  1 2 3 4 5 6 7 8  \n",
            " 1 2 3 4 5 6 7 8 9  \n",
            "1 2 3 4 5 6 7 8 9 10  \n"
          ]
        }
      ],
      "source": [
        "n = int(input (\"enter number of lines \"))\n",
        "for outer in range (1,n+1):\n",
        "    for space in range (1, (n+1)-outer ):\n",
        "        print ( \" \" ,end =\"\")\n",
        "    for inner in range  (1, outer+1):\n",
        "        print (inner , end=\" \")\n",
        "    print (\" \")"
      ]
    },
    {
      "cell_type": "code",
      "execution_count": null,
      "id": "fd3e2cfd",
      "metadata": {
        "id": "fd3e2cfd"
      },
      "outputs": [],
      "source": [
        "n=int(input\"enter the number: \"))\n"
      ]
    }
  ],
  "metadata": {
    "kernelspec": {
      "display_name": "Python 3 (ipykernel)",
      "language": "python",
      "name": "python3"
    },
    "language_info": {
      "codemirror_mode": {
        "name": "ipython",
        "version": 3
      },
      "file_extension": ".py",
      "mimetype": "text/x-python",
      "name": "python",
      "nbconvert_exporter": "python",
      "pygments_lexer": "ipython3",
      "version": "3.10.9"
    },
    "colab": {
      "provenance": [],
      "include_colab_link": true
    }
  },
  "nbformat": 4,
  "nbformat_minor": 5
}