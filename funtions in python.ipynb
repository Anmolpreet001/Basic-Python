{
 "cells": [
  {
   "cell_type": "code",
   "execution_count": 1,
   "id": "7670398c",
   "metadata": {},
   "outputs": [],
   "source": [
    "def calaveragewithgrace(eng,hin,math,grace=0):\n",
    "    return ((eng+hin+math+grace)/3)"
   ]
  },
  {
   "cell_type": "markdown",
   "id": "c64a0217",
   "metadata": {},
   "source": [
    "## wap to print digit of a number using function"
   ]
  },
  {
   "cell_type": "code",
   "execution_count": 32,
   "id": "d02a95a2",
   "metadata": {},
   "outputs": [
    {
     "name": "stdout",
     "output_type": "stream",
     "text": [
      "enter the number: 2343536999655\n",
      "5\n",
      "5\n",
      "6\n",
      "9\n",
      "9\n",
      "9\n",
      "6\n",
      "3\n",
      "5\n",
      "3\n",
      "4\n",
      "3\n",
      "2\n",
      "maximun number out of these of these digits:  9\n",
      "apppearance of maximun number:  3\n"
     ]
    }
   ],
   "source": [
    "def apperance(n):\n",
    "    count=0\n",
    "    max=n%10\n",
    "    while(n!=0):\n",
    "        n1=n%10\n",
    "        n=n//10  \n",
    "        print(n1)\n",
    "        if(n1<=max):\n",
    "            if(max==n1):\n",
    "                count=count+1\n",
    "        else:\n",
    "            max=n1\n",
    "            count=1\n",
    "    print(\"maximun number out of these of these digits: \",max)\n",
    "    print(\"apppearance of maximun number: \",count)\n",
    "            \n",
    "n=int(input(\"enter the number: \"))\n",
    "apperance(n)\n",
    "\n",
    "\n",
    "\n"
   ]
  },
  {
   "cell_type": "code",
   "execution_count": null,
   "id": "d8cd74ae",
   "metadata": {},
   "outputs": [],
   "source": [
    "## return statement"
   ]
  },
  {
   "cell_type": "code",
   "execution_count": 6,
   "id": "816c38f8",
   "metadata": {},
   "outputs": [
    {
     "name": "stdout",
     "output_type": "stream",
     "text": [
      "70\n",
      "badal\n"
     ]
    }
   ],
   "source": [
    "def digit(a,b):\n",
    "    sum=a+b\n",
    "    return sum \n",
    "    \n",
    "    \n",
    "#n=int(input(\"enter the number: \"))\n",
    "a=digit(0,70)\n",
    "print(a)\n",
    "if(a>90):\n",
    "    print(\"anmol\")\n",
    "else:\n",
    "    print(\"badal\")"
   ]
  },
  {
   "cell_type": "markdown",
   "id": "ac7c830a",
   "metadata": {},
   "source": [
    "## wap to print sum, avg, min using funtion"
   ]
  },
  {
   "cell_type": "code",
   "execution_count": 23,
   "id": "4fa6ab29",
   "metadata": {},
   "outputs": [
    {
     "name": "stdout",
     "output_type": "stream",
     "text": [
      "enter the number: 4\n",
      "Enter 1 number:  1\n",
      "Enter 2 number:  2\n",
      "Enter 3 number:  3\n",
      "Enter 4 number:  4\n",
      "10 4 1 2.5\n"
     ]
    }
   ],
   "source": [
    "def detail(n1):\n",
    "    sum=0\n",
    "    avg=0\n",
    "    for i in range(n1):\n",
    "        a=int(input(f'Enter {i+1} number:  '))\n",
    "        if(i==0):\n",
    "            min=a\n",
    "            max=a\n",
    "        sum=sum+a\n",
    "        if(a>max):\n",
    "            max=a\n",
    "        else :\n",
    "            pass\n",
    "        if(a<min):\n",
    "            min=a\n",
    "        else:\n",
    "            pass\n",
    "#     c=c+1   \n",
    "    return (sum,max,min,sum/n1)  # when more than one return statements then we can use tuple object, list,dic \n",
    "                                 #in these statement we can use tuple object\n",
    "                                #only \n",
    "#     avg=sum/n1\n",
    "#     print(f'sum of {n1} numbers: ',sum)\n",
    "#     print(f'avg of {n1} numbers: ',avg)\n",
    "#     print(\"maximum number is: \",max)\n",
    "#     print(\"minimum number is: \",min)\n",
    "n1=int(input(\"enter the number: \"))\n",
    "a,b,c,d=detail(n1)\n",
    "print(a,b,c,d)"
   ]
  },
  {
   "cell_type": "code",
   "execution_count": 19,
   "id": "948e3230",
   "metadata": {},
   "outputs": [
    {
     "name": "stdout",
     "output_type": "stream",
     "text": [
      "enter the value of n: 4\n",
      "1  \n",
      "1 2  \n",
      "1 2 3  \n"
     ]
    }
   ],
   "source": [
    "def fun1(n):\n",
    "    for i in range(1,n):\n",
    "        for j in range(1,i+1):\n",
    "            print(j,end=\" \")\n",
    "        print(\" \")\n",
    "n=int(input(\"enter the value of n: \"))\n",
    "fun1(n)"
   ]
  },
  {
   "cell_type": "code",
   "execution_count": 1,
   "id": "92944f0e",
   "metadata": {},
   "outputs": [
    {
     "name": "stdout",
     "output_type": "stream",
     "text": [
      "enter the number: 5\n",
      "      1  \n",
      "    1 2 1  \n",
      "  1 2 3 2 1  \n",
      "1 2 3 4 3 2 1  \n"
     ]
    }
   ],
   "source": [
    "def fun1(n): \n",
    "    for outer in range(1,n):\n",
    "        for inner in range(1,n-outer):\n",
    "            print(\" \",end=\" \")\n",
    "        for middle in range(1,outer+1):\n",
    "            print(middle,end=\" \")\n",
    "        for last in range(outer-1,0,-1): # this condtion is used to  \n",
    "            print(last,end=\" \")\n",
    "        print(\" \")  \n",
    "n=int(input(\"enter the number: \"))\n",
    "fun1(n)"
   ]
  },
  {
   "cell_type": "code",
   "execution_count": null,
   "id": "caddf995",
   "metadata": {},
   "outputs": [],
   "source": []
  }
 ],
 "metadata": {
  "kernelspec": {
   "display_name": "Python 3 (ipykernel)",
   "language": "python",
   "name": "python3"
  },
  "language_info": {
   "codemirror_mode": {
    "name": "ipython",
    "version": 3
   },
   "file_extension": ".py",
   "mimetype": "text/x-python",
   "name": "python",
   "nbconvert_exporter": "python",
   "pygments_lexer": "ipython3",
   "version": "3.10.9"
  }
 },
 "nbformat": 4,
 "nbformat_minor": 5
}
