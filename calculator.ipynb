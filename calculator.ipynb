{
 "cells": [
  {
   "cell_type": "code",
   "execution_count": 70,
   "id": "29133a83",
   "metadata": {},
   "outputs": [
    {
     "ename": "SyntaxError",
     "evalue": "invalid syntax. Maybe you meant '==' or ':=' instead of '='? (2078165729.py, line 4)",
     "output_type": "error",
     "traceback": [
      "\u001b[1;36m  Cell \u001b[1;32mIn[70], line 4\u001b[1;36m\u001b[0m\n\u001b[1;33m    if(opp=1):\u001b[0m\n\u001b[1;37m       ^\u001b[0m\n\u001b[1;31mSyntaxError\u001b[0m\u001b[1;31m:\u001b[0m invalid syntax. Maybe you meant '==' or ':=' instead of '='?\n"
     ]
    }
   ],
   "source": [
    "\n",
    "a=int(input(\"enter the first number: \"))\n",
    "b=int(input(\"enter the second number: \"))\n",
    "opp=int(input(\"***************please select  the operation ********************8\"))\n",
    "if(opp=1):\n",
    "      {\n",
    "          sum1=a+b;\n",
    "          print(\" sum of these two numbers is: \",sum1)\n",
    "      }\n",
    "elif(opp=2):\n",
    "      {\n",
    "          sub1=a-b;\n",
    "          print(\"subtraction of these two numbers is: \",sub1)\n",
    "      }\n",
    "elif(opp=3):\n",
    "      {\n",
    "          div1=a/b;\n",
    "          print(\"Division of these two numbers is: \",div1)\n",
    "      }\n",
    "else:\n",
    "      {\n",
    "          mul1=a*b;\n",
    "          print(\"multiplication of these two numbers is: \",mul1)\n",
    "      }\n",
    "      \n"
   ]
  },
  {
   "cell_type": "code",
   "execution_count": 10,
   "id": "dbdf1aa5",
   "metadata": {},
   "outputs": [
    {
     "name": "stdout",
     "output_type": "stream",
     "text": [
      "yours operations are in these calculator\n",
      "press1=Addtion\n",
      " press 2=subtraction\n",
      " press 3=division\n",
      " press 4=multiplication\n",
      "enter the first number: 5\n",
      "enter the second number: 5\n",
      "5\n",
      "5\n",
      "***************please select  the operation ********************1\n",
      "1\n",
      " sum of these two numbers is:  10\n"
     ]
    }
   ],
   "source": [
    "print(\"yours operations are in these calculator\")\n",
    "print(\"press1=Addtion\\n press 2=subtraction\\n press 3=division\\n press 4=multiplication\")\n",
    "a=eval(input(\"enter the first number: \"))\n",
    "b=eval(input(\"enter the second number: \"))\n",
    "print(a)\n",
    "print(b)\n",
    "opp=int(input(\"***************please select  the operation ********************\"))\n",
    "print(opp)\n",
    "if(opp==1):\n",
    "    s=a+b\n",
    "    print(\" sum of these two numbers is: \",s)\n",
    "      \n",
    "elif(opp==2):\n",
    "          sub1=a-b;\n",
    "          print(\"subtraction of these two numbers is: \",sub1)\n",
    "elif(opp==3):\n",
    "          div1=a/b;\n",
    "          print(\"Division of these two numbers is: \",div1)\n",
    "elif(opp==4):\n",
    "          mul1=a*b;\n",
    "          print(\"multiplication of these two numbers is: \",mul1)\n"
   ]
  },
  {
   "cell_type": "code",
   "execution_count": 43,
   "id": "ecd5b644",
   "metadata": {},
   "outputs": [
    {
     "name": "stdout",
     "output_type": "stream",
     "text": [
      "yours operations are in these calculator\n",
      "press1=Addtion\n",
      " press 2=subtraction\n",
      " press 3=division\n",
      " press 4=multiplication\n",
      "enter the first number: 12\n",
      "12\n",
      "enter the second number: 12\n",
      "12\n",
      "***************please select  the operation ********************1\n",
      " sum of these two numbers is:  24\n"
     ]
    },
    {
     "ename": "KeyboardInterrupt",
     "evalue": "Interrupted by user",
     "output_type": "error",
     "traceback": [
      "\u001b[1;31m---------------------------------------------------------------------------\u001b[0m",
      "\u001b[1;31mKeyboardInterrupt\u001b[0m                         Traceback (most recent call last)",
      "Cell \u001b[1;32mIn[43], line 6\u001b[0m\n\u001b[0;32m      4\u001b[0m \u001b[38;5;28;01mwhile\u001b[39;00m(option\u001b[38;5;241m!=\u001b[39m\u001b[38;5;241m10\u001b[39m):\n\u001b[0;32m      5\u001b[0m     \u001b[38;5;28;01mif\u001b[39;00m option\u001b[38;5;241m==\u001b[39m\u001b[38;5;241m0\u001b[39m:\n\u001b[1;32m----> 6\u001b[0m         a\u001b[38;5;241m=\u001b[39m\u001b[38;5;28meval\u001b[39m(\u001b[38;5;28minput\u001b[39m(\u001b[38;5;124m\"\u001b[39m\u001b[38;5;124menter the first number: \u001b[39m\u001b[38;5;124m\"\u001b[39m));\u001b[38;5;28mprint\u001b[39m(a)\n\u001b[0;32m      7\u001b[0m         b\u001b[38;5;241m=\u001b[39m\u001b[38;5;28meval\u001b[39m(\u001b[38;5;28minput\u001b[39m(\u001b[38;5;124m\"\u001b[39m\u001b[38;5;124menter the second number: \u001b[39m\u001b[38;5;124m\"\u001b[39m)) ;\u001b[38;5;28mprint\u001b[39m(b)\n\u001b[0;32m      8\u001b[0m         opp\u001b[38;5;241m=\u001b[39m\u001b[38;5;28mint\u001b[39m(\u001b[38;5;28minput\u001b[39m(\u001b[38;5;124m\"\u001b[39m\u001b[38;5;124m***************please select  the operation ********************\u001b[39m\u001b[38;5;124m\"\u001b[39m))\n",
      "File \u001b[1;32m~\\anaconda3\\lib\\site-packages\\ipykernel\\kernelbase.py:1175\u001b[0m, in \u001b[0;36mKernel.raw_input\u001b[1;34m(self, prompt)\u001b[0m\n\u001b[0;32m   1171\u001b[0m \u001b[38;5;28;01mif\u001b[39;00m \u001b[38;5;129;01mnot\u001b[39;00m \u001b[38;5;28mself\u001b[39m\u001b[38;5;241m.\u001b[39m_allow_stdin:\n\u001b[0;32m   1172\u001b[0m     \u001b[38;5;28;01mraise\u001b[39;00m StdinNotImplementedError(\n\u001b[0;32m   1173\u001b[0m         \u001b[38;5;124m\"\u001b[39m\u001b[38;5;124mraw_input was called, but this frontend does not support input requests.\u001b[39m\u001b[38;5;124m\"\u001b[39m\n\u001b[0;32m   1174\u001b[0m     )\n\u001b[1;32m-> 1175\u001b[0m \u001b[38;5;28;01mreturn\u001b[39;00m \u001b[38;5;28;43mself\u001b[39;49m\u001b[38;5;241;43m.\u001b[39;49m\u001b[43m_input_request\u001b[49m\u001b[43m(\u001b[49m\n\u001b[0;32m   1176\u001b[0m \u001b[43m    \u001b[49m\u001b[38;5;28;43mstr\u001b[39;49m\u001b[43m(\u001b[49m\u001b[43mprompt\u001b[49m\u001b[43m)\u001b[49m\u001b[43m,\u001b[49m\n\u001b[0;32m   1177\u001b[0m \u001b[43m    \u001b[49m\u001b[38;5;28;43mself\u001b[39;49m\u001b[38;5;241;43m.\u001b[39;49m\u001b[43m_parent_ident\u001b[49m\u001b[43m[\u001b[49m\u001b[38;5;124;43m\"\u001b[39;49m\u001b[38;5;124;43mshell\u001b[39;49m\u001b[38;5;124;43m\"\u001b[39;49m\u001b[43m]\u001b[49m\u001b[43m,\u001b[49m\n\u001b[0;32m   1178\u001b[0m \u001b[43m    \u001b[49m\u001b[38;5;28;43mself\u001b[39;49m\u001b[38;5;241;43m.\u001b[39;49m\u001b[43mget_parent\u001b[49m\u001b[43m(\u001b[49m\u001b[38;5;124;43m\"\u001b[39;49m\u001b[38;5;124;43mshell\u001b[39;49m\u001b[38;5;124;43m\"\u001b[39;49m\u001b[43m)\u001b[49m\u001b[43m,\u001b[49m\n\u001b[0;32m   1179\u001b[0m \u001b[43m    \u001b[49m\u001b[43mpassword\u001b[49m\u001b[38;5;241;43m=\u001b[39;49m\u001b[38;5;28;43;01mFalse\u001b[39;49;00m\u001b[43m,\u001b[49m\n\u001b[0;32m   1180\u001b[0m \u001b[43m\u001b[49m\u001b[43m)\u001b[49m\n",
      "File \u001b[1;32m~\\anaconda3\\lib\\site-packages\\ipykernel\\kernelbase.py:1217\u001b[0m, in \u001b[0;36mKernel._input_request\u001b[1;34m(self, prompt, ident, parent, password)\u001b[0m\n\u001b[0;32m   1214\u001b[0m             \u001b[38;5;28;01mbreak\u001b[39;00m\n\u001b[0;32m   1215\u001b[0m \u001b[38;5;28;01mexcept\u001b[39;00m \u001b[38;5;167;01mKeyboardInterrupt\u001b[39;00m:\n\u001b[0;32m   1216\u001b[0m     \u001b[38;5;66;03m# re-raise KeyboardInterrupt, to truncate traceback\u001b[39;00m\n\u001b[1;32m-> 1217\u001b[0m     \u001b[38;5;28;01mraise\u001b[39;00m \u001b[38;5;167;01mKeyboardInterrupt\u001b[39;00m(\u001b[38;5;124m\"\u001b[39m\u001b[38;5;124mInterrupted by user\u001b[39m\u001b[38;5;124m\"\u001b[39m) \u001b[38;5;28;01mfrom\u001b[39;00m \u001b[38;5;28mNone\u001b[39m\n\u001b[0;32m   1218\u001b[0m \u001b[38;5;28;01mexcept\u001b[39;00m \u001b[38;5;167;01mException\u001b[39;00m:\n\u001b[0;32m   1219\u001b[0m     \u001b[38;5;28mself\u001b[39m\u001b[38;5;241m.\u001b[39mlog\u001b[38;5;241m.\u001b[39mwarning(\u001b[38;5;124m\"\u001b[39m\u001b[38;5;124mInvalid Message:\u001b[39m\u001b[38;5;124m\"\u001b[39m, exc_info\u001b[38;5;241m=\u001b[39m\u001b[38;5;28;01mTrue\u001b[39;00m)\n",
      "\u001b[1;31mKeyboardInterrupt\u001b[0m: Interrupted by user"
     ]
    }
   ],
   "source": [
    "\n",
    "print(\"yours operations are in these calculator\")\n",
    "print(\"press1=Addtion\\n press 2=subtraction\\n press 3=division\\n press 4=multiplication\")\n",
    "option=0\n",
    "while(option!=10):\n",
    "    if option==0:\n",
    "        a=eval(input(\"enter the first number: \"));print(a)\n",
    "        b=eval(input(\"enter the second number: \")) ;print(b)\n",
    "        opp=int(input(\"***************please select  the operation ********************\"))\n",
    "        if(opp==1):\n",
    "            a=a+b\n",
    "            print(\" sum of these two numbers is: \",a)\n",
    "        elif(opp==2):\n",
    "            a=a-b;\n",
    "            print(\"subtraction of these two numbers is: \",a)\n",
    "        elif(opp==3):\n",
    "            a=a/b;\n",
    "            print(\"Division of these two numbers is: \",a)\n",
    "        elif(opp==4):\n",
    "            a=a*b;\n",
    "            print(\"multiplication of these two numbers is: \",a)\n",
    "    #print(\"if you can proceed another operation press 100\")\n",
    "    #print(\"if you cannot proceed another operation press 10\")\n",
    "        #proceed=int(input(\"enter the proceed operation\"))\n",
    "        "
   ]
  },
  {
   "cell_type": "code",
   "execution_count": 84,
   "id": "a90917a3",
   "metadata": {},
   "outputs": [
    {
     "name": "stdout",
     "output_type": "stream",
     "text": [
      "yours operations are in these calculator\n",
      "press + =Addtion\n",
      " press - =subtraction\n",
      " press \\ =division\n",
      " press * =multiplication\n"
     ]
    },
    {
     "ename": "KeyboardInterrupt",
     "evalue": "Interrupted by user",
     "output_type": "error",
     "traceback": [
      "\u001b[1;31m---------------------------------------------------------------------------\u001b[0m",
      "\u001b[1;31mKeyboardInterrupt\u001b[0m                         Traceback (most recent call last)",
      "Cell \u001b[1;32mIn[84], line 7\u001b[0m\n\u001b[0;32m      4\u001b[0m \u001b[38;5;28;01mwhile\u001b[39;00m(option\u001b[38;5;241m!=\u001b[39m\u001b[38;5;241m10\u001b[39m):\n\u001b[0;32m      6\u001b[0m     \u001b[38;5;28;01mif\u001b[39;00m option\u001b[38;5;241m==\u001b[39m\u001b[38;5;241m0\u001b[39m:\n\u001b[1;32m----> 7\u001b[0m         a\u001b[38;5;241m=\u001b[39m\u001b[38;5;28meval\u001b[39m(\u001b[38;5;28;43minput\u001b[39;49m\u001b[43m(\u001b[49m\u001b[38;5;124;43m\"\u001b[39;49m\u001b[38;5;124;43mEnter the first number: \u001b[39;49m\u001b[38;5;124;43m\"\u001b[39;49m\u001b[43m)\u001b[49m)\n\u001b[0;32m      8\u001b[0m         option\u001b[38;5;241m=\u001b[39moption\u001b[38;5;241m+\u001b[39m\u001b[38;5;241m1\u001b[39m\n\u001b[0;32m      9\u001b[0m     opp\u001b[38;5;241m=\u001b[39m\u001b[38;5;28minput\u001b[39m(\u001b[38;5;124m\"\u001b[39m\u001b[38;5;124mEnter the operation : \u001b[39m\u001b[38;5;124m\"\u001b[39m)\n",
      "File \u001b[1;32m~\\anaconda3\\lib\\site-packages\\ipykernel\\kernelbase.py:1175\u001b[0m, in \u001b[0;36mKernel.raw_input\u001b[1;34m(self, prompt)\u001b[0m\n\u001b[0;32m   1171\u001b[0m \u001b[38;5;28;01mif\u001b[39;00m \u001b[38;5;129;01mnot\u001b[39;00m \u001b[38;5;28mself\u001b[39m\u001b[38;5;241m.\u001b[39m_allow_stdin:\n\u001b[0;32m   1172\u001b[0m     \u001b[38;5;28;01mraise\u001b[39;00m StdinNotImplementedError(\n\u001b[0;32m   1173\u001b[0m         \u001b[38;5;124m\"\u001b[39m\u001b[38;5;124mraw_input was called, but this frontend does not support input requests.\u001b[39m\u001b[38;5;124m\"\u001b[39m\n\u001b[0;32m   1174\u001b[0m     )\n\u001b[1;32m-> 1175\u001b[0m \u001b[38;5;28;01mreturn\u001b[39;00m \u001b[38;5;28;43mself\u001b[39;49m\u001b[38;5;241;43m.\u001b[39;49m\u001b[43m_input_request\u001b[49m\u001b[43m(\u001b[49m\n\u001b[0;32m   1176\u001b[0m \u001b[43m    \u001b[49m\u001b[38;5;28;43mstr\u001b[39;49m\u001b[43m(\u001b[49m\u001b[43mprompt\u001b[49m\u001b[43m)\u001b[49m\u001b[43m,\u001b[49m\n\u001b[0;32m   1177\u001b[0m \u001b[43m    \u001b[49m\u001b[38;5;28;43mself\u001b[39;49m\u001b[38;5;241;43m.\u001b[39;49m\u001b[43m_parent_ident\u001b[49m\u001b[43m[\u001b[49m\u001b[38;5;124;43m\"\u001b[39;49m\u001b[38;5;124;43mshell\u001b[39;49m\u001b[38;5;124;43m\"\u001b[39;49m\u001b[43m]\u001b[49m\u001b[43m,\u001b[49m\n\u001b[0;32m   1178\u001b[0m \u001b[43m    \u001b[49m\u001b[38;5;28;43mself\u001b[39;49m\u001b[38;5;241;43m.\u001b[39;49m\u001b[43mget_parent\u001b[49m\u001b[43m(\u001b[49m\u001b[38;5;124;43m\"\u001b[39;49m\u001b[38;5;124;43mshell\u001b[39;49m\u001b[38;5;124;43m\"\u001b[39;49m\u001b[43m)\u001b[49m\u001b[43m,\u001b[49m\n\u001b[0;32m   1179\u001b[0m \u001b[43m    \u001b[49m\u001b[43mpassword\u001b[49m\u001b[38;5;241;43m=\u001b[39;49m\u001b[38;5;28;43;01mFalse\u001b[39;49;00m\u001b[43m,\u001b[49m\n\u001b[0;32m   1180\u001b[0m \u001b[43m\u001b[49m\u001b[43m)\u001b[49m\n",
      "File \u001b[1;32m~\\anaconda3\\lib\\site-packages\\ipykernel\\kernelbase.py:1217\u001b[0m, in \u001b[0;36mKernel._input_request\u001b[1;34m(self, prompt, ident, parent, password)\u001b[0m\n\u001b[0;32m   1214\u001b[0m             \u001b[38;5;28;01mbreak\u001b[39;00m\n\u001b[0;32m   1215\u001b[0m \u001b[38;5;28;01mexcept\u001b[39;00m \u001b[38;5;167;01mKeyboardInterrupt\u001b[39;00m:\n\u001b[0;32m   1216\u001b[0m     \u001b[38;5;66;03m# re-raise KeyboardInterrupt, to truncate traceback\u001b[39;00m\n\u001b[1;32m-> 1217\u001b[0m     \u001b[38;5;28;01mraise\u001b[39;00m \u001b[38;5;167;01mKeyboardInterrupt\u001b[39;00m(\u001b[38;5;124m\"\u001b[39m\u001b[38;5;124mInterrupted by user\u001b[39m\u001b[38;5;124m\"\u001b[39m) \u001b[38;5;28;01mfrom\u001b[39;00m \u001b[38;5;28mNone\u001b[39m\n\u001b[0;32m   1218\u001b[0m \u001b[38;5;28;01mexcept\u001b[39;00m \u001b[38;5;167;01mException\u001b[39;00m:\n\u001b[0;32m   1219\u001b[0m     \u001b[38;5;28mself\u001b[39m\u001b[38;5;241m.\u001b[39mlog\u001b[38;5;241m.\u001b[39mwarning(\u001b[38;5;124m\"\u001b[39m\u001b[38;5;124mInvalid Message:\u001b[39m\u001b[38;5;124m\"\u001b[39m, exc_info\u001b[38;5;241m=\u001b[39m\u001b[38;5;28;01mTrue\u001b[39;00m)\n",
      "\u001b[1;31mKeyboardInterrupt\u001b[0m: Interrupted by user"
     ]
    }
   ],
   "source": [
    "print(\"yours operations are in these calculator\")\n",
    "print(\"press + =Addtion\\n press - =subtraction\\n press \\ =division\\n press * =multiplication\")\n",
    "option=0\n",
    "while(option!=10):\n",
    "\n",
    "    if option==0:\n",
    "        a=eval(input(\"Enter the first number: \"))\n",
    "        option=option+1\n",
    "    opp=input(\"Enter the operation : \")\n",
    "    b=eval(input(\"Enter the second number: \")) \n",
    "    if(opp=='+'):\n",
    "        a=a+b\n",
    "        print(\" Sum of these two numbers is: \",a)\n",
    "    elif(opp=='-'):\n",
    "        a=a-b;\n",
    "        print(\"Subtraction of these two numbers is: \",a)\n",
    "    elif(opp=='/'):\n",
    "        a=a/b;\n",
    "        print(\"Division of these two numbers is: \",a)\n",
    "    elif(opp=='*'):\n",
    "        a=a*b;\n",
    "        print(\"Multiplication of these two numbers is: \",a)\n",
    "    z=int(input(\"Enter 0 for continue and 1 for quit: \"))\n",
    "    if(z==0):\n",
    "        continue\n",
    "    elif(z==1):\n",
    "        print(\"Thank You\")\n",
    "        break\n",
    "        \n",
    "        \n",
    "    \n",
    "    \n",
    "    \n",
    "    \n",
    "    "
   ]
  },
  {
   "cell_type": "markdown",
   "id": "f38be0b6",
   "metadata": {},
   "source": [
    "## using function we can create a calculator\n"
   ]
  },
  {
   "cell_type": "code",
   "execution_count": null,
   "id": "369cc80d",
   "metadata": {},
   "outputs": [],
   "source": [
    "print(\"Operations in these calculator\")\n",
    "print(\"press + =Addtion\\n press - =subtraction\\n press \\ =division\\n press * =multiplication\")\n",
    "a=eval(input(\"Enter the first number: \"))\n",
    "def calculator(a):\n",
    "    opp=str(input(\"Enter the operation : \"))\n",
    "    b=eval(input(\"Enter the second number: \")) \n",
    "    if(opp=='+'):\n",
    "        a=a+b\n",
    "        print(\"Sum of these two numbers is: \",a)\n",
    "    elif(opp=='-'):\n",
    "        a=a-b;\n",
    "        print(\"Subtraction of these two numbers is: \",a)\n",
    "    elif(opp=='/'):\n",
    "        a=a/b;\n",
    "        print(\"Division of these two numbers is: \",a)\n",
    "    elif(opp=='*'):\n",
    "        a=a*b;\n",
    "        print(\"Multiplication of these two numbers is: \",a)\n",
    "    z=int(input(\"Enter 0 for continue and 1 for quit: \"))\n",
    "    if(z==0):\n",
    "        calculator(a)\n",
    "    elif(z==1):\n",
    "        print(\"Thank You\")\n",
    "calculator(a)\n",
    "\n",
    "\n",
    "    "
   ]
  },
  {
   "cell_type": "code",
   "execution_count": null,
   "id": "4635cf40",
   "metadata": {},
   "outputs": [],
   "source": []
  }
 ],
 "metadata": {
  "kernelspec": {
   "display_name": "Python 3 (ipykernel)",
   "language": "python",
   "name": "python3"
  },
  "language_info": {
   "codemirror_mode": {
    "name": "ipython",
    "version": 3
   },
   "file_extension": ".py",
   "mimetype": "text/x-python",
   "name": "python",
   "nbconvert_exporter": "python",
   "pygments_lexer": "ipython3",
   "version": "3.10.9"
  }
 },
 "nbformat": 4,
 "nbformat_minor": 5
}
